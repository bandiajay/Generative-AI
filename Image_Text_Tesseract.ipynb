{
  "cells": [
    {
      "cell_type": "markdown",
      "id": "7df64c15-cffa-4642-a191-961dc40e2e7b",
      "metadata": {
        "id": "7df64c15-cffa-4642-a191-961dc40e2e7b"
      },
      "source": [
        "<div style=\"text-align: center;\">\n",
        "<h1>Tesseract - OCR</h1>                                          \n",
        "</div>"
      ]
    },
    {
      "cell_type": "code",
      "source": [],
      "metadata": {
        "id": "OKPcOOLNopCY"
      },
      "id": "OKPcOOLNopCY",
      "execution_count": null,
      "outputs": []
    },
    {
      "cell_type": "markdown",
      "source": [
        "<a href=\"https://colab.research.google.com/drive/1fFO8-YzWG-TMtUOJDcyUlgSuQzjAcx0-?usp=sharing#scrollTo=80acce92-d463-41a5-ad19-9496fe924b02\">  Open in Colab </a>"
      ],
      "metadata": {
        "id": "v6YYv_n3pCHc"
      },
      "id": "v6YYv_n3pCHc"
    },
    {
      "cell_type": "markdown",
      "source": [],
      "metadata": {
        "id": "U0GwSpOTpA4Z"
      },
      "id": "U0GwSpOTpA4Z"
    },
    {
      "cell_type": "code",
      "source": [
        "from google.colab import drive\n",
        "\n",
        "drive.mount('/content/gdrive')"
      ],
      "metadata": {
        "colab": {
          "base_uri": "https://localhost:8080/"
        },
        "id": "ryFBKecFqxq3",
        "outputId": "e53477c8-0598-48dd-8f50-fc81c9a083a0"
      },
      "id": "ryFBKecFqxq3",
      "execution_count": null,
      "outputs": [
        {
          "output_type": "stream",
          "name": "stdout",
          "text": [
            "Mounted at /content/gdrive\n"
          ]
        }
      ]
    },
    {
      "cell_type": "code",
      "source": [
        "%cd gdrive/My Drive"
      ],
      "metadata": {
        "colab": {
          "base_uri": "https://localhost:8080/"
        },
        "id": "ogDRov6hq80S",
        "outputId": "262c2d41-9d5d-4a1e-ee9f-093458abb060"
      },
      "id": "ogDRov6hq80S",
      "execution_count": null,
      "outputs": [
        {
          "output_type": "stream",
          "name": "stdout",
          "text": [
            "/content/gdrive/My Drive\n"
          ]
        }
      ]
    },
    {
      "cell_type": "markdown",
      "id": "de993421-039f-42fa-93d4-737334c7c685",
      "metadata": {
        "id": "de993421-039f-42fa-93d4-737334c7c685"
      },
      "source": [
        "<b>Introduction: </b> <p> Tesseract is an open-source OCR (Optical Character Recognition) software library designed for extracting text in images. OCR is helpful in digitalizing the documets, automating data entry, etc., Tesseract is mainly developed by HP which later taken by Google.</p>\n"
      ]
    },
    {
      "cell_type": "markdown",
      "id": "e144d54d-6c2f-48e7-a250-a7737322f423",
      "metadata": {
        "id": "e144d54d-6c2f-48e7-a250-a7737322f423"
      },
      "source": [
        "<b> Objective: </b> <p> The goal of this worksheet is to extract the text present in image using Tesseract.</p>\n",
        "<img src=\"https://miro.medium.com/v2/resize:fit:1100/format:webp/0*U-yY2Z3iyJPvg-Oo.png\">"
      ]
    },
    {
      "cell_type": "markdown",
      "id": "6b544353-d9d8-434d-b061-e3c020787325",
      "metadata": {
        "id": "6b544353-d9d8-434d-b061-e3c020787325"
      },
      "source": [
        "<b> Requirements: </b>\n",
        "<ul>\n",
        "<li> pytesseract - Python wrapper for Tesseract library.</li>\n",
        "<li> pillow (PIL) - Python library used for Image Processing. </li>\n",
        "</ul>"
      ]
    },
    {
      "cell_type": "markdown",
      "id": "786dc9bc-9aad-4331-b51a-fc95d64d8ad7",
      "metadata": {
        "id": "786dc9bc-9aad-4331-b51a-fc95d64d8ad7"
      },
      "source": [
        "<b> Steps: <b>\n",
        "<ul>\n",
        "    <li>Install above mentioned packages.</li>\n",
        "     <li> Program\n",
        "        <ul>\n",
        "            <li> Set the path to Tesseract OCR engine executable on the system. </li>\n",
        "            <li> Get the input image. </li>\n",
        "            <li> Extract the text. </li>\n",
        "        </ul>\n",
        "      </li>  \n",
        "</ul>"
      ]
    },
    {
      "cell_type": "markdown",
      "id": "611794a5-fb2c-4944-9c13-12861dd7ad3d",
      "metadata": {
        "id": "611794a5-fb2c-4944-9c13-12861dd7ad3d"
      },
      "source": [
        "<h3> Install above mentioned packages. </h3>"
      ]
    },
    {
      "cell_type": "markdown",
      "id": "65fcda08-c8b8-4a1b-a715-9ecdde88cc79",
      "metadata": {
        "id": "65fcda08-c8b8-4a1b-a715-9ecdde88cc79"
      },
      "source": [
        "<b> NOTE: </b> If errors occurs please add <code>! python -m </code> to the <code> pip </code>command. Notice exclamation mark and spaces.\n",
        "Ex: <code> !python -m pip install pytesseract </code>"
      ]
    },
    {
      "cell_type": "code",
      "source": [
        "!sudo apt install tesseract-ocr"
      ],
      "metadata": {
        "colab": {
          "base_uri": "https://localhost:8080/"
        },
        "id": "Ts2LGjihf9Iy",
        "outputId": "49f5478e-9775-4661-ad45-74fa3c8df32b"
      },
      "id": "Ts2LGjihf9Iy",
      "execution_count": null,
      "outputs": [
        {
          "output_type": "stream",
          "name": "stdout",
          "text": [
            "Reading package lists... Done\n",
            "Building dependency tree... Done\n",
            "Reading state information... Done\n",
            "The following additional packages will be installed:\n",
            "  tesseract-ocr-eng tesseract-ocr-osd\n",
            "The following NEW packages will be installed:\n",
            "  tesseract-ocr tesseract-ocr-eng tesseract-ocr-osd\n",
            "0 upgraded, 3 newly installed, 0 to remove and 45 not upgraded.\n",
            "Need to get 4,816 kB of archives.\n",
            "After this operation, 15.6 MB of additional disk space will be used.\n",
            "Get:1 http://archive.ubuntu.com/ubuntu jammy/universe amd64 tesseract-ocr-eng all 1:4.00~git30-7274cfa-1.1 [1,591 kB]\n",
            "Get:2 http://archive.ubuntu.com/ubuntu jammy/universe amd64 tesseract-ocr-osd all 1:4.00~git30-7274cfa-1.1 [2,990 kB]\n",
            "Get:3 http://archive.ubuntu.com/ubuntu jammy/universe amd64 tesseract-ocr amd64 4.1.1-2.1build1 [236 kB]\n",
            "Fetched 4,816 kB in 1s (6,214 kB/s)\n",
            "debconf: unable to initialize frontend: Dialog\n",
            "debconf: (No usable dialog-like program is installed, so the dialog based frontend cannot be used. at /usr/share/perl5/Debconf/FrontEnd/Dialog.pm line 78, <> line 3.)\n",
            "debconf: falling back to frontend: Readline\n",
            "debconf: unable to initialize frontend: Readline\n",
            "debconf: (This frontend requires a controlling tty.)\n",
            "debconf: falling back to frontend: Teletype\n",
            "dpkg-preconfigure: unable to re-open stdin: \n",
            "Selecting previously unselected package tesseract-ocr-eng.\n",
            "(Reading database ... 121752 files and directories currently installed.)\n",
            "Preparing to unpack .../tesseract-ocr-eng_1%3a4.00~git30-7274cfa-1.1_all.deb ...\n",
            "Unpacking tesseract-ocr-eng (1:4.00~git30-7274cfa-1.1) ...\n",
            "Selecting previously unselected package tesseract-ocr-osd.\n",
            "Preparing to unpack .../tesseract-ocr-osd_1%3a4.00~git30-7274cfa-1.1_all.deb ...\n",
            "Unpacking tesseract-ocr-osd (1:4.00~git30-7274cfa-1.1) ...\n",
            "Selecting previously unselected package tesseract-ocr.\n",
            "Preparing to unpack .../tesseract-ocr_4.1.1-2.1build1_amd64.deb ...\n",
            "Unpacking tesseract-ocr (4.1.1-2.1build1) ...\n",
            "Setting up tesseract-ocr-eng (1:4.00~git30-7274cfa-1.1) ...\n",
            "Setting up tesseract-ocr-osd (1:4.00~git30-7274cfa-1.1) ...\n",
            "Setting up tesseract-ocr (4.1.1-2.1build1) ...\n",
            "Processing triggers for man-db (2.10.2-1) ...\n"
          ]
        }
      ]
    },
    {
      "cell_type": "code",
      "execution_count": null,
      "id": "80acce92-d463-41a5-ad19-9496fe924b02",
      "metadata": {
        "colab": {
          "base_uri": "https://localhost:8080/"
        },
        "id": "80acce92-d463-41a5-ad19-9496fe924b02",
        "outputId": "181ef57f-6e88-45db-b0db-7f91cdd29339"
      },
      "outputs": [
        {
          "output_type": "stream",
          "name": "stdout",
          "text": [
            "Requirement already satisfied: pytesseract in /usr/local/lib/python3.10/dist-packages (0.3.10)\n",
            "Requirement already satisfied: packaging>=21.3 in /usr/local/lib/python3.10/dist-packages (from pytesseract) (24.0)\n",
            "Requirement already satisfied: Pillow>=8.0.0 in /usr/local/lib/python3.10/dist-packages (from pytesseract) (9.4.0)\n"
          ]
        }
      ],
      "source": [
        "pip install pytesseract"
      ]
    },
    {
      "cell_type": "code",
      "source": [],
      "metadata": {
        "id": "1KSyEblaonWN"
      },
      "id": "1KSyEblaonWN",
      "execution_count": null,
      "outputs": []
    },
    {
      "cell_type": "code",
      "execution_count": null,
      "id": "f40c0e36-ce40-44a3-a33e-f895c7f5a08d",
      "metadata": {
        "colab": {
          "base_uri": "https://localhost:8080/"
        },
        "id": "f40c0e36-ce40-44a3-a33e-f895c7f5a08d",
        "outputId": "26ddc65b-6ecd-4154-ce3c-29252b9f11a0"
      },
      "outputs": [
        {
          "output_type": "stream",
          "name": "stdout",
          "text": [
            "Requirement already satisfied: pillow in /usr/local/lib/python3.10/dist-packages (9.4.0)\n"
          ]
        }
      ],
      "source": [
        "pip install pillow"
      ]
    },
    {
      "cell_type": "code",
      "execution_count": null,
      "id": "5448371f-3077-444b-b9ab-da90138bb33a",
      "metadata": {
        "id": "5448371f-3077-444b-b9ab-da90138bb33a"
      },
      "outputs": [],
      "source": [
        "import pytesseract"
      ]
    },
    {
      "cell_type": "markdown",
      "id": "a01e4422-cf86-4fda-949f-9cbbc0151e08",
      "metadata": {
        "id": "a01e4422-cf86-4fda-949f-9cbbc0151e08"
      },
      "source": [
        "<h3> Program </h3>"
      ]
    },
    {
      "cell_type": "markdown",
      "id": "dda48d21-a8ab-4114-bbd0-885806faa064",
      "metadata": {
        "id": "dda48d21-a8ab-4114-bbd0-885806faa064"
      },
      "source": [
        "<h4> Set the path to Tesseract OCR engine executable on the system. </h4>"
      ]
    },
    {
      "cell_type": "code",
      "execution_count": null,
      "id": "f3d348d3-6a3e-4b32-a40f-24f66cded41e",
      "metadata": {
        "id": "f3d348d3-6a3e-4b32-a40f-24f66cded41e"
      },
      "outputs": [],
      "source": [
        "# tesseract_path = r'C:\\Program Files\\Tesseract-OCR\\tesseract.exe'"
      ]
    },
    {
      "cell_type": "code",
      "execution_count": null,
      "id": "c436e786-d436-482e-99a5-c9d2403a963b",
      "metadata": {
        "id": "c436e786-d436-482e-99a5-c9d2403a963b"
      },
      "outputs": [],
      "source": [
        "# pytesseract.pytesseract.tesseract_cmd = tesseract_path"
      ]
    },
    {
      "cell_type": "markdown",
      "id": "7945dd99-996e-4377-bda8-b6c799c4d6dc",
      "metadata": {
        "id": "7945dd99-996e-4377-bda8-b6c799c4d6dc"
      },
      "source": [
        "<h4> Get the input image. </h4>"
      ]
    },
    {
      "cell_type": "markdown",
      "id": "38251286-bf0e-4338-8dd5-d45b0b368df4",
      "metadata": {
        "id": "38251286-bf0e-4338-8dd5-d45b0b368df4"
      },
      "source": [
        " Here, input image is in <code> C:\\GenAI\\sampleimages\\WorksheetOne </code> folder. Depending on where your input image is stored, change the input image path."
      ]
    },
    {
      "cell_type": "code",
      "source": [],
      "metadata": {
        "id": "G0rjV9n2eKSZ"
      },
      "id": "G0rjV9n2eKSZ",
      "execution_count": null,
      "outputs": []
    },
    {
      "cell_type": "code",
      "source": [
        "# !ls"
      ],
      "metadata": {
        "id": "ohsKrK0qeu7F"
      },
      "id": "ohsKrK0qeu7F",
      "execution_count": null,
      "outputs": []
    },
    {
      "cell_type": "code",
      "source": [],
      "metadata": {
        "colab": {
          "base_uri": "https://localhost:8080/"
        },
        "id": "Vck1HfmgeKVg",
        "outputId": "266adeb3-aed3-43b8-81e1-ae370749a6fc"
      },
      "id": "Vck1HfmgeKVg",
      "execution_count": null,
      "outputs": [
        {
          "output_type": "stream",
          "name": "stdout",
          "text": [
            "/content/gdrive/My Drive\n"
          ]
        }
      ]
    },
    {
      "cell_type": "code",
      "execution_count": null,
      "id": "99361330-96e8-4de0-b1d7-f0e92b1e7d3a",
      "metadata": {
        "id": "99361330-96e8-4de0-b1d7-f0e92b1e7d3a"
      },
      "outputs": [],
      "source": [
        "from PIL import Image\n",
        "\n",
        "input_image_path = r'test.jpg'\n",
        "input_image = Image.open(input_image_path)"
      ]
    },
    {
      "cell_type": "markdown",
      "id": "76535e24-059a-4c93-b4a3-cdf7af6cb033",
      "metadata": {
        "id": "76535e24-059a-4c93-b4a3-cdf7af6cb033"
      },
      "source": [
        "<h4> Extract the text </h4>"
      ]
    },
    {
      "cell_type": "code",
      "execution_count": null,
      "id": "7ee7e8b4-43fd-446b-a866-6689c1d23718",
      "metadata": {
        "colab": {
          "base_uri": "https://localhost:8080/"
        },
        "id": "7ee7e8b4-43fd-446b-a866-6689c1d23718",
        "outputId": "302a707c-ba6f-4d06-ef0f-b5f782b5905b"
      },
      "outputs": [
        {
          "output_type": "stream",
          "name": "stdout",
          "text": [
            " \n",
            "\n",
            "Nasdaq & AMEX\n",
            "\n",
            "Stocks in bold rose or fell 5% or more\n",
            "\n",
            " \n",
            "\n",
            "PETCy Track your investments with our continuously\n",
            "Lie Y.\\ 4 updated stocks. Visit us on the web at\n",
            "\n",
            "Sul money.usatoday.com\n",
            "\n",
            "S2-week\n",
            "Hish Low Stock Last Change\n",
            "\n",
            "9.19 6.89 ABX Airn 7.52 0.10\n",
            "33.25 1240 ACMoore 13.58 —1.57\n",
            "‘3.38 1351 ADA-ES 0.96 +3.16\n",
            "27.14 12.88 ADC Tel rs 23.21 +0.13\n",
            "30.40 16.70 ADECD 27.32 +0.73\n",
            "16.45 10.47 AFC Ents 15.40 —0.14\n",
            "837 450 ASE Tst 7.76 +0,40\n",
            "19.25 12.75 ASM Intl 17.65 —0.03\n",
            "20.92 13.94 ASML Hid 21.26 +0.46\n",
            "27.38 16.97 ASVincs 26.76 +0,14\n",
            "19.82 10.47 ATI Tech — 17.89 +0.68\n",
            "33.62 20.53 ATMI inc 29.95 +1.29\n",
            "97.20 16.76 ATP ORG 38.40 —0.59\n",
            "4.24 1.99 AVI Blo 02\n",
            "\n",
            "   \n",
            "\n",
            "BRE\n",
            "268\n",
            "\n",
            "SSSssx\n",
            "\n",
            "SRrsemosR\n",
            "\n",
            "Low\n",
            "\n",
            "92.50\n",
            "1.20\n",
            "5.13\n",
            "\n",
            "50.65\n",
            "\n",
            "202.25 131.03\n",
            "\n",
            "1.40\n",
            "10.73\n",
            "13.86\n",
            "2415\n",
            "19.91\n",
            "6.12\n",
            "1.56\n",
            "4.99\n",
            "21.10\n",
            "10.01\n",
            "7.10\n",
            "26.65\n",
            "\n",
            " \n",
            " \n",
            " \n",
            " \n",
            " \n",
            " \n",
            " \n",
            " \n",
            " \n",
            " \n",
            " \n",
            "  \n",
            "   \n",
            "\n",
            "Stock Last Change\n",
            "Biomet 36.71\n",
            "Biomira 1.46\n",
            "BioScrip 8.05\n",
            "\n",
            "Biosite 50.05\n",
            "BiotechT 204.66\n",
            "BirchMt on 6.52\n",
            "Bickboud 17.90\n",
            "BluCoat 41.29\n",
            "BlueNile 40.30\n",
            "BobEvn 22.9\n",
            "Bodisenn 15.45\n",
            "Bookham 5.94\n",
            "Borland 6.68\n",
            "BostPry 31.18\n",
            "BttminT 11.53\n",
            "BrigExp\n",
            "y\n",
            "\n",
            " \n",
            "   \n",
            "\f\n"
          ]
        }
      ],
      "source": [
        "output_text = pytesseract.image_to_string(input_image)\n",
        "print(output_text)"
      ]
    },
    {
      "cell_type": "code",
      "execution_count": null,
      "id": "be0254cd-70e8-4b0f-8940-74f72c6f032d",
      "metadata": {
        "id": "be0254cd-70e8-4b0f-8940-74f72c6f032d"
      },
      "outputs": [],
      "source": []
    }
  ],
  "metadata": {
    "kernelspec": {
      "display_name": "Python 3 (ipykernel)",
      "language": "python",
      "name": "python3"
    },
    "language_info": {
      "codemirror_mode": {
        "name": "ipython",
        "version": 3
      },
      "file_extension": ".py",
      "mimetype": "text/x-python",
      "name": "python",
      "nbconvert_exporter": "python",
      "pygments_lexer": "ipython3",
      "version": "3.12.0"
    },
    "colab": {
      "provenance": []
    }
  },
  "nbformat": 4,
  "nbformat_minor": 5
}