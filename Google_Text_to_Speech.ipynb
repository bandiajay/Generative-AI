{
  "cells": [
    {
      "cell_type": "markdown",
      "metadata": {
        "id": "view-in-github",
        "colab_type": "text"
      },
      "source": [
        "<a href=\"https://colab.research.google.com/github/bandiajay/Generative-AI/blob/main/Google_Text_to_Speech.ipynb\" target=\"_parent\"><img src=\"https://colab.research.google.com/assets/colab-badge.svg\" alt=\"Open In Colab\"/></a>"
      ]
    },
    {
      "cell_type": "markdown",
      "id": "2ad60cbe-4826-4c0f-aab7-a222d5b95547",
      "metadata": {
        "id": "2ad60cbe-4826-4c0f-aab7-a222d5b95547"
      },
      "source": [
        "<div style=\"text-align: center;\">\n",
        "\n",
        "<h1>  Google Text to Speech </h1>\n",
        "</div>"
      ]
    },
    {
      "cell_type": "markdown",
      "id": "f95f8eac-81d1-439c-8132-95abdd5a72e4",
      "metadata": {
        "id": "f95f8eac-81d1-439c-8132-95abdd5a72e4"
      },
      "source": [
        "<b>Introduction: </b>\n",
        "<p> Google Text to Speech (GTTS) is a technology that helps in converting the <i>Text</i> into <i>Voice</i> that mostly matches a human speech.This service is part of Google's Cloud Platform and leverages deep learning techniques to produce speech that closely mimics the patterns and intonations of human speech.It finds its applications in visually Impaired persons, feedback in interactive applications, etc.,\n",
        "</p>\n"
      ]
    },
    {
      "cell_type": "markdown",
      "id": "cfffa832-5dd4-4263-98e1-a376fc8eb24e",
      "metadata": {
        "id": "cfffa832-5dd4-4263-98e1-a376fc8eb24e"
      },
      "source": [
        "<b> Objective: </b> <p> This worksheet enables converting the text to voice.</p>"
      ]
    },
    {
      "cell_type": "markdown",
      "id": "4d657928-2f49-4690-a08a-747bcd4de3f8",
      "metadata": {
        "id": "4d657928-2f49-4690-a08a-747bcd4de3f8"
      },
      "source": [
        "<b> Requirements: </b>\n",
        "<ul>\n",
        "<li> gtts - Python wrapper for Google Text to library.</li>\n",
        "</ul>"
      ]
    },
    {
      "cell_type": "markdown",
      "id": "3bc5c587-6b29-4ed1-ac0a-2cccae667ef5",
      "metadata": {
        "id": "3bc5c587-6b29-4ed1-ac0a-2cccae667ef5"
      },
      "source": [
        "<b> Steps: <b>\n",
        "<ul>\n",
        "    <li> Connect to your Drive. </li>\n",
        "    <li>Install gtts package.</li>\n",
        "     <li> Program\n",
        "        <ul>\n",
        "            <li> Get the input text </li>\n",
        "            <li> Process the data.</li>\n",
        "            <li> Save to .mp3 file </li>\n",
        "            <li> Play the audio. </li>\n",
        "        </ul>\n",
        "      </li>  \n",
        "</ul>"
      ]
    },
    {
      "cell_type": "markdown",
      "id": "e4Zt21G0J7Mr",
      "metadata": {
        "id": "e4Zt21G0J7Mr"
      },
      "source": [
        "**Connect to your Google Drive**"
      ]
    },
    {
      "cell_type": "code",
      "execution_count": null,
      "id": "Gb3ByJXoKAv2",
      "metadata": {
        "colab": {
          "base_uri": "https://localhost:8080/"
        },
        "id": "Gb3ByJXoKAv2",
        "outputId": "cacacbc5-bb89-4623-b126-eae2f79716d9"
      },
      "outputs": [
        {
          "name": "stdout",
          "output_type": "stream",
          "text": [
            "Mounted at /content/gdrive\n",
            "/content/gdrive/My Drive\n"
          ]
        }
      ],
      "source": [
        "from google.colab import drive\n",
        "\n",
        "drive.mount('/content/gdrive')\n",
        "\n",
        "%cd gdrive/My Drive"
      ]
    },
    {
      "cell_type": "markdown",
      "id": "7f32d337-9f5a-4b42-9098-14c9f5f642f8",
      "metadata": {
        "id": "7f32d337-9f5a-4b42-9098-14c9f5f642f8"
      },
      "source": [
        "<h3> Install gtts packages. </h3>"
      ]
    },
    {
      "cell_type": "markdown",
      "id": "34fd6899",
      "metadata": {
        "id": "34fd6899"
      },
      "source": [
        "**Note**: Add `python -m` to pip if pip fails. Ex: `python -m pip install gtts`"
      ]
    },
    {
      "cell_type": "code",
      "execution_count": null,
      "id": "b6068bef-0123-43a4-8cce-9fc08f70eefb",
      "metadata": {
        "colab": {
          "base_uri": "https://localhost:8080/"
        },
        "id": "b6068bef-0123-43a4-8cce-9fc08f70eefb",
        "outputId": "18d7f1e6-8b7a-45a5-c4f8-fdbff0429212"
      },
      "outputs": [
        {
          "name": "stdout",
          "output_type": "stream",
          "text": [
            "Collecting gtts\n",
            "  Downloading gTTS-2.5.1-py3-none-any.whl (29 kB)\n",
            "Requirement already satisfied: requests<3,>=2.27 in /usr/local/lib/python3.10/dist-packages (from gtts) (2.31.0)\n",
            "Requirement already satisfied: click<8.2,>=7.1 in /usr/local/lib/python3.10/dist-packages (from gtts) (8.1.7)\n",
            "Requirement already satisfied: charset-normalizer<4,>=2 in /usr/local/lib/python3.10/dist-packages (from requests<3,>=2.27->gtts) (3.3.2)\n",
            "Requirement already satisfied: idna<4,>=2.5 in /usr/local/lib/python3.10/dist-packages (from requests<3,>=2.27->gtts) (3.7)\n",
            "Requirement already satisfied: urllib3<3,>=1.21.1 in /usr/local/lib/python3.10/dist-packages (from requests<3,>=2.27->gtts) (2.0.7)\n",
            "Requirement already satisfied: certifi>=2017.4.17 in /usr/local/lib/python3.10/dist-packages (from requests<3,>=2.27->gtts) (2024.2.2)\n",
            "Installing collected packages: gtts\n",
            "Successfully installed gtts-2.5.1\n"
          ]
        }
      ],
      "source": [
        "pip install gtts"
      ]
    },
    {
      "cell_type": "markdown",
      "id": "M_T_NhKFWD6S",
      "metadata": {
        "id": "M_T_NhKFWD6S"
      },
      "source": [
        "**import necessary modules**"
      ]
    },
    {
      "cell_type": "markdown",
      "id": "EoXoZ653WIqp",
      "metadata": {
        "id": "EoXoZ653WIqp"
      },
      "source": [
        "`gTTS` class provides all functions required for speech processing."
      ]
    },
    {
      "cell_type": "code",
      "execution_count": null,
      "id": "48fb4d34-1fce-4a22-8825-60fcd78b7229",
      "metadata": {
        "id": "48fb4d34-1fce-4a22-8825-60fcd78b7229"
      },
      "outputs": [],
      "source": [
        "from gtts import gTTS\n",
        "import os"
      ]
    },
    {
      "cell_type": "markdown",
      "id": "d78209b4-0960-42c6-9814-e1031e1df4d9",
      "metadata": {
        "id": "d78209b4-0960-42c6-9814-e1031e1df4d9"
      },
      "source": [
        "<h3> Program </h3>"
      ]
    },
    {
      "cell_type": "markdown",
      "id": "4d565928-7ab4-42f1-adc4-5f8796ec7444",
      "metadata": {
        "id": "4d565928-7ab4-42f1-adc4-5f8796ec7444"
      },
      "source": [
        "<h4>Get the input text </h4>"
      ]
    },
    {
      "cell_type": "markdown",
      "id": "d51e4822",
      "metadata": {
        "id": "d51e4822"
      },
      "source": [
        "Give your own sentence as input."
      ]
    },
    {
      "cell_type": "code",
      "execution_count": null,
      "id": "efd6870c-76ca-4a88-9dcd-88ae10035990",
      "metadata": {
        "id": "efd6870c-76ca-4a88-9dcd-88ae10035990"
      },
      "outputs": [],
      "source": [
        "input_text = \"Hello, how are you? This is a Speech to text conversion example.\""
      ]
    },
    {
      "cell_type": "markdown",
      "id": "dd0d96c5-16af-45b3-896d-6cd8cb3560d9",
      "metadata": {
        "id": "dd0d96c5-16af-45b3-896d-6cd8cb3560d9"
      },
      "source": [
        "<h4>Process the data </h4>"
      ]
    },
    {
      "cell_type": "code",
      "execution_count": null,
      "id": "0566ed76-fe44-4a58-9e99-5e08ff5e9bf1",
      "metadata": {
        "id": "0566ed76-fe44-4a58-9e99-5e08ff5e9bf1"
      },
      "outputs": [],
      "source": [
        "converted_data = gTTS(text=input_text, lang='en')"
      ]
    },
    {
      "cell_type": "markdown",
      "id": "bcf0c6b6-b150-4cbb-8c49-26e403af5d83",
      "metadata": {
        "id": "bcf0c6b6-b150-4cbb-8c49-26e403af5d83"
      },
      "source": [
        "<h4>Save to .mp3 file</h4>"
      ]
    },
    {
      "cell_type": "code",
      "execution_count": null,
      "id": "2103883b-0bf1-437f-a839-743750808fdf",
      "metadata": {
        "id": "2103883b-0bf1-437f-a839-743750808fdf"
      },
      "outputs": [],
      "source": [
        "output_speech = \"greeting.mp3\""
      ]
    },
    {
      "cell_type": "code",
      "execution_count": null,
      "id": "a4a63cae-d90a-4e1a-b1b7-843b99666104",
      "metadata": {
        "id": "a4a63cae-d90a-4e1a-b1b7-843b99666104"
      },
      "outputs": [],
      "source": [
        "converted_data.save(output_speech)"
      ]
    },
    {
      "cell_type": "markdown",
      "id": "8bdea553-e01d-46d8-a91f-9b74a817a01b",
      "metadata": {
        "id": "8bdea553-e01d-46d8-a91f-9b74a817a01b"
      },
      "source": [
        "<h4>Play the audio</h4>"
      ]
    },
    {
      "cell_type": "code",
      "execution_count": null,
      "id": "2ljMteirLhJ3",
      "metadata": {
        "colab": {
          "base_uri": "https://localhost:8080/",
          "height": 75
        },
        "id": "2ljMteirLhJ3",
        "outputId": "851c9bec-7e9a-464f-a91e-fab447df66b3"
      },
      "outputs": [
        {
          "data": {
            "text/html": [
              "\n",
              "                <audio  controls=\"controls\" autoplay=\"autoplay\">\n",
              "                    <source src=\"data:audio/mpeg;base64,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\" type=\"audio/mpeg\" />\n",
              "                    Your browser does not support the audio element.\n",
              "                </audio>\n",
              "              "
            ],
            "text/plain": [
              "<IPython.lib.display.Audio object>"
            ]
          },
          "metadata": {},
          "output_type": "display_data"
        }
      ],
      "source": [
        "from IPython.display import Audio, display\n",
        "\n",
        "display(Audio(\"greeting.mp3\", autoplay=True))"
      ]
    },
    {
      "cell_type": "code",
      "execution_count": null,
      "id": "WFd66GFkWUyS",
      "metadata": {
        "id": "WFd66GFkWUyS"
      },
      "outputs": [],
      "source": []
    }
  ],
  "metadata": {
    "colab": {
      "provenance": [],
      "include_colab_link": true
    },
    "kernelspec": {
      "display_name": "Python 3 (ipykernel)",
      "language": "python",
      "name": "python3"
    },
    "language_info": {
      "codemirror_mode": {
        "name": "ipython",
        "version": 3
      },
      "file_extension": ".py",
      "mimetype": "text/x-python",
      "name": "python",
      "nbconvert_exporter": "python",
      "pygments_lexer": "ipython3",
      "version": "3.12.0"
    }
  },
  "nbformat": 4,
  "nbformat_minor": 5
}