{
  "cells": [
    {
      "cell_type": "markdown",
      "metadata": {
        "id": "view-in-github",
        "colab_type": "text"
      },
      "source": [
        "<a href=\"https://colab.research.google.com/github/bandiajay/Generative-AI/blob/main/01_Google_Text_to_Speech.ipynb\" target=\"_parent\"><img src=\"https://colab.research.google.com/assets/colab-badge.svg\" alt=\"Open In Colab\"/></a>"
      ]
    },
    {
      "cell_type": "markdown",
      "id": "45b2a5e3-2364-4546-94ec-1c80f5b521df",
      "metadata": {
        "id": "45b2a5e3-2364-4546-94ec-1c80f5b521df"
      },
      "source": [
        "**Note**:  The files we are going to use here are located in Google Drive (specifically in My Drive, not Home). Create a new google account if your drive is full."
      ]
    },
    {
      "cell_type": "markdown",
      "id": "2ad60cbe-4826-4c0f-aab7-a222d5b95547",
      "metadata": {
        "id": "2ad60cbe-4826-4c0f-aab7-a222d5b95547"
      },
      "source": [
        "<div style=\"text-align: center;\">\n",
        "\n",
        "<h1>  Google Text to Speech </h1>\n",
        "</div>"
      ]
    },
    {
      "cell_type": "markdown",
      "id": "cfffa832-5dd4-4263-98e1-a376fc8eb24e",
      "metadata": {
        "id": "cfffa832-5dd4-4263-98e1-a376fc8eb24e"
      },
      "source": [
        "<b> Objective: </b> <p> This worksheet effectively utilize the <b>gTTS (Google Text-to-Speech) </b> library to convert written text into audible speech, enabling participants to develop hands-on experience with text-to-speech technology and enhance their understanding of its applications in various digital interfaces and accessibility tools.</p>"
      ]
    },
    {
      "cell_type": "markdown",
      "id": "f95f8eac-81d1-439c-8132-95abdd5a72e4",
      "metadata": {
        "id": "f95f8eac-81d1-439c-8132-95abdd5a72e4"
      },
      "source": [
        "<b>Introduction: </b>\n",
        "<p> Google Text to Speech (GTTS) is a technology that helps in converting the <i>Text</i> into <i>Voice</i> that mostly matches a human speech.This service is part of Google's Cloud Platform and leverages deep learning techniques to produce speech that closely mimics the patterns and intonations of human speech.It finds its applications in visually Impaired persons, feedback in interactive applications, etc.,\n",
        "</p>\n"
      ]
    },
    {
      "cell_type": "markdown",
      "id": "4d657928-2f49-4690-a08a-747bcd4de3f8",
      "metadata": {
        "id": "4d657928-2f49-4690-a08a-747bcd4de3f8"
      },
      "source": [
        "<b> Requirements: </b>\n",
        "<ol>\n",
        "<li> gtts - Python wrapper for Google Text to Speech library.</li>\n",
        "</ol>"
      ]
    },
    {
      "cell_type": "markdown",
      "id": "3bc5c587-6b29-4ed1-ac0a-2cccae667ef5",
      "metadata": {
        "id": "3bc5c587-6b29-4ed1-ac0a-2cccae667ef5"
      },
      "source": [
        "<b> Steps: </b>\n",
        "<ol>\n",
        "    <li> Connect to your Google Drive </li>\n",
        "    <li> Install <code> gtts  </code> package</li>\n",
        "     <li> Write Source code\n",
        "         <p> 3.1 Import the <code> gtts  </code> module <br>\n",
        "             3.2 Enter the input text <br>\n",
        "             3.3 Process the data <br>\n",
        "             3.4 Save the audio to MP3 file <br>\n",
        "             3.5 Play the audio </p>\n",
        "     </li>  \n",
        "</ol>"
      ]
    },
    {
      "cell_type": "markdown",
      "id": "e4Zt21G0J7Mr",
      "metadata": {
        "id": "e4Zt21G0J7Mr"
      },
      "source": [
        "<h3>Step 1: Connect to your Google Drive</h3>"
      ]
    },
    {
      "cell_type": "code",
      "execution_count": null,
      "id": "Gb3ByJXoKAv2",
      "metadata": {
        "colab": {
          "base_uri": "https://localhost:8080/"
        },
        "id": "Gb3ByJXoKAv2",
        "outputId": "cacacbc5-bb89-4623-b126-eae2f79716d9"
      },
      "outputs": [
        {
          "name": "stdout",
          "output_type": "stream",
          "text": [
            "Mounted at /content/gdrive\n",
            "/content/gdrive/My Drive\n"
          ]
        }
      ],
      "source": [
        "from google.colab import drive\n",
        "\n",
        "drive.mount('/content/gdrive')\n",
        "\n",
        "%cd gdrive/My Drive"
      ]
    },
    {
      "cell_type": "markdown",
      "id": "7f32d337-9f5a-4b42-9098-14c9f5f642f8",
      "metadata": {
        "id": "7f32d337-9f5a-4b42-9098-14c9f5f642f8"
      },
      "source": [
        "<h3>Step 2 : Install <code> gtts  </code> packages. </h3>"
      ]
    },
    {
      "cell_type": "markdown",
      "id": "34fd6899",
      "metadata": {
        "id": "34fd6899"
      },
      "source": [
        "**Note**: If the below command fails, execute `python -m pip install gtts`"
      ]
    },
    {
      "cell_type": "code",
      "execution_count": null,
      "id": "b6068bef-0123-43a4-8cce-9fc08f70eefb",
      "metadata": {
        "colab": {
          "base_uri": "https://localhost:8080/"
        },
        "id": "b6068bef-0123-43a4-8cce-9fc08f70eefb",
        "outputId": "18d7f1e6-8b7a-45a5-c4f8-fdbff0429212"
      },
      "outputs": [
        {
          "name": "stdout",
          "output_type": "stream",
          "text": [
            "Requirement already satisfied: gtts in c:\\users\\s566590\\genai\\lib\\site-packages (2.5.1)\n",
            "Requirement already satisfied: requests<3,>=2.27 in c:\\users\\s566590\\genai\\lib\\site-packages (from gtts) (2.31.0)\n",
            "Requirement already satisfied: click<8.2,>=7.1 in c:\\users\\s566590\\genai\\lib\\site-packages (from gtts) (8.1.7)\n",
            "Requirement already satisfied: colorama in c:\\users\\s566590\\genai\\lib\\site-packages (from click<8.2,>=7.1->gtts) (0.4.6)\n",
            "Requirement already satisfied: charset-normalizer<4,>=2 in c:\\users\\s566590\\genai\\lib\\site-packages (from requests<3,>=2.27->gtts) (3.3.2)\n",
            "Requirement already satisfied: idna<4,>=2.5 in c:\\users\\s566590\\genai\\lib\\site-packages (from requests<3,>=2.27->gtts) (3.6)\n",
            "Requirement already satisfied: urllib3<3,>=1.21.1 in c:\\users\\s566590\\genai\\lib\\site-packages (from requests<3,>=2.27->gtts) (2.2.1)\n",
            "Requirement already satisfied: certifi>=2017.4.17 in c:\\users\\s566590\\genai\\lib\\site-packages (from requests<3,>=2.27->gtts) (2024.2.2)\n",
            "Note: you may need to restart the kernel to use updated packages.\n"
          ]
        },
        {
          "name": "stderr",
          "output_type": "stream",
          "text": [
            "\n",
            "[notice] A new release of pip is available: 23.2.1 -> 24.0\n",
            "[notice] To update, run: python.exe -m pip install --upgrade pip\n"
          ]
        }
      ],
      "source": [
        "pip install gtts"
      ]
    },
    {
      "cell_type": "markdown",
      "id": "M_T_NhKFWD6S",
      "metadata": {
        "id": "M_T_NhKFWD6S"
      },
      "source": [
        "<h3> Step 3 : Write Source Code </h3>"
      ]
    },
    {
      "cell_type": "markdown",
      "id": "d78209b4-0960-42c6-9814-e1031e1df4d9",
      "metadata": {
        "id": "d78209b4-0960-42c6-9814-e1031e1df4d9"
      },
      "source": [
        "<h4> Step 3.1 : Import <code> gTTS </code> module </h4>"
      ]
    },
    {
      "cell_type": "markdown",
      "id": "EoXoZ653WIqp",
      "metadata": {
        "id": "EoXoZ653WIqp"
      },
      "source": [
        "`gTTS` class provides all functions required for speech processing."
      ]
    },
    {
      "cell_type": "code",
      "execution_count": null,
      "id": "48fb4d34-1fce-4a22-8825-60fcd78b7229",
      "metadata": {
        "id": "48fb4d34-1fce-4a22-8825-60fcd78b7229"
      },
      "outputs": [],
      "source": [
        "from gtts import gTTS\n",
        "import os"
      ]
    },
    {
      "cell_type": "markdown",
      "id": "4d565928-7ab4-42f1-adc4-5f8796ec7444",
      "metadata": {
        "id": "4d565928-7ab4-42f1-adc4-5f8796ec7444"
      },
      "source": [
        "<h4>Step 3.2 : Enter the input text that you want to convert to voice </h4>"
      ]
    },
    {
      "cell_type": "markdown",
      "id": "d51e4822",
      "metadata": {
        "id": "d51e4822"
      },
      "source": [
        "Give your own sentence as input."
      ]
    },
    {
      "cell_type": "code",
      "execution_count": null,
      "id": "efd6870c-76ca-4a88-9dcd-88ae10035990",
      "metadata": {
        "id": "efd6870c-76ca-4a88-9dcd-88ae10035990"
      },
      "outputs": [],
      "source": [
        "input_text = \"Hello, how are you? This is a Speech to text conversion example. Type something\""
      ]
    },
    {
      "cell_type": "markdown",
      "id": "dd0d96c5-16af-45b3-896d-6cd8cb3560d9",
      "metadata": {
        "id": "dd0d96c5-16af-45b3-896d-6cd8cb3560d9"
      },
      "source": [
        "<h4>Step 3.3 : Process the data </h4>"
      ]
    },
    {
      "cell_type": "markdown",
      "id": "9f8ca3b0",
      "metadata": {
        "id": "9f8ca3b0"
      },
      "source": [
        "`gTTS` provides mechanism to convert the given text into audio. Here you may consider changing the language from English. Please refer for <a href=\"https://gtts.readthedocs.io/en/latest/\">  <code> gTTS </code>  </a> documentation."
      ]
    },
    {
      "cell_type": "code",
      "execution_count": null,
      "id": "0566ed76-fe44-4a58-9e99-5e08ff5e9bf1",
      "metadata": {
        "id": "0566ed76-fe44-4a58-9e99-5e08ff5e9bf1"
      },
      "outputs": [],
      "source": [
        "converted_data = gTTS(text=input_text, lang='en')"
      ]
    },
    {
      "cell_type": "markdown",
      "id": "bcf0c6b6-b150-4cbb-8c49-26e403af5d83",
      "metadata": {
        "id": "bcf0c6b6-b150-4cbb-8c49-26e403af5d83"
      },
      "source": [
        "<h4>Step 3.4 : Generate and save the Audio  to MP3 file.</h4>"
      ]
    },
    {
      "cell_type": "markdown",
      "id": "192ed4ee-4d2d-4fde-8278-acdaf9a07a57",
      "metadata": {
        "id": "192ed4ee-4d2d-4fde-8278-acdaf9a07a57"
      },
      "source": [
        "The generated audio will be saved in your Google Drive."
      ]
    },
    {
      "cell_type": "code",
      "execution_count": null,
      "id": "2103883b-0bf1-437f-a839-743750808fdf",
      "metadata": {
        "id": "2103883b-0bf1-437f-a839-743750808fdf"
      },
      "outputs": [],
      "source": [
        "output_speech = \"greeting.mp3\"\n",
        "converted_data.save(output_speech)"
      ]
    },
    {
      "cell_type": "markdown",
      "id": "8bdea553-e01d-46d8-a91f-9b74a817a01b",
      "metadata": {
        "id": "8bdea553-e01d-46d8-a91f-9b74a817a01b"
      },
      "source": [
        "<h4>Step 3.5 : Play the audio</h4>"
      ]
    },
    {
      "cell_type": "code",
      "execution_count": null,
      "id": "2ljMteirLhJ3",
      "metadata": {
        "colab": {
          "base_uri": "https://localhost:8080/",
          "height": 75
        },
        "id": "2ljMteirLhJ3",
        "outputId": "851c9bec-7e9a-464f-a91e-fab447df66b3"
      },
      "outputs": [
        {
          "data": {
            "text/html": [
              "\n",
              "                <audio  controls=\"controls\" autoplay=\"autoplay\">\n",
              "                    <source src=\"data:audio/mpeg;base64,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\" type=\"audio/mpeg\" />\n",
              "                    Your browser does not support the audio element.\n",
              "                </audio>\n",
              "              "
            ],
            "text/plain": [
              "<IPython.lib.display.Audio object>"
            ]
          },
          "metadata": {},
          "output_type": "display_data"
        }
      ],
      "source": [
        "from IPython.display import Audio, display\n",
        "\n",
        "display(Audio(\"greeting.mp3\", autoplay=True))"
      ]
    }
  ],
  "metadata": {
    "colab": {
      "provenance": [],
      "include_colab_link": true
    },
    "kernelspec": {
      "display_name": "Python 3 (ipykernel)",
      "language": "python",
      "name": "python3"
    },
    "language_info": {
      "codemirror_mode": {
        "name": "ipython",
        "version": 3
      },
      "file_extension": ".py",
      "mimetype": "text/x-python",
      "name": "python",
      "nbconvert_exporter": "python",
      "pygments_lexer": "ipython3",
      "version": "3.12.0"
    }
  },
  "nbformat": 4,
  "nbformat_minor": 5
}